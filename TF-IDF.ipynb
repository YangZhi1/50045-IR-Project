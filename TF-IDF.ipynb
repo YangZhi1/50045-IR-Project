{
  "nbformat": 4,
  "nbformat_minor": 0,
  "metadata": {
    "colab": {
      "name": "IR_tfidf.ipynb",
      "provenance": []
    },
    "kernelspec": {
      "name": "python3",
      "display_name": "Python 3"
    },
    "language_info": {
      "name": "python"
    },
    "accelerator": "GPU"
  },
  "cells": [
    {
      "cell_type": "markdown",
      "metadata": {
        "id": "ITvwpfZGkW8J"
      },
      "source": [
        "Loading data \n"
      ]
    },
    {
      "cell_type": "code",
      "metadata": {
        "colab": {
          "base_uri": "https://localhost:8080/"
        },
        "id": "0ld_COsHkV-T",
        "outputId": "929c1daa-dc30-407a-a21c-150da9c87fba"
      },
      "source": [
        "import pandas as pd\n",
        "import numpy as np\n",
        "from tqdm import tqdm \n",
        "import torch\n",
        "from sklearn.feature_extraction.text import TfidfVectorizer\n",
        "\n",
        "##rmb upload train.csv\n",
        "train_data = pd.read_csv(\"train.csv\")\n",
        "train_data = train_data[['posting_id', 'title', 'label_group']]\n",
        "print(train_data)"
      ],
      "execution_count": null,
      "outputs": [
        {
          "output_type": "stream",
          "text": [
            "             posting_id  ... label_group\n",
            "0       train_129225211  ...   249114794\n",
            "1      train_3386243561  ...  2937985045\n",
            "2      train_2288590299  ...  2395904891\n",
            "3      train_2406599165  ...  4093212188\n",
            "4      train_3369186413  ...  3648931069\n",
            "...                 ...  ...         ...\n",
            "34245  train_4028265689  ...  3776555725\n",
            "34246   train_769054909  ...  2736479533\n",
            "34247   train_614977732  ...  4101248785\n",
            "34248  train_3630949769  ...  1663538013\n",
            "34249  train_1792180725  ...   459464107\n",
            "\n",
            "[34250 rows x 3 columns]\n"
          ],
          "name": "stdout"
        }
      ]
    },
    {
      "cell_type": "code",
      "metadata": {
        "colab": {
          "base_uri": "https://localhost:8080/"
        },
        "id": "2okkvLz3UYdW",
        "outputId": "456ac5d1-2d2a-4ced-e0ce-c9293f54abab"
      },
      "source": [
        "titles_train=[title for title in train_data.title.values]\n",
        "idf=TfidfVectorizer(binary=True)\n",
        "embedded_train=idf.fit_transform(titles_train).toarray()\n",
        "embedded_train.shape"
      ],
      "execution_count": null,
      "outputs": [
        {
          "output_type": "execute_result",
          "data": {
            "text/plain": [
              "(34250, 25069)"
            ]
          },
          "metadata": {
            "tags": []
          },
          "execution_count": 63
        }
      ]
    },
    {
      "cell_type": "code",
      "metadata": {
        "id": "th3uOTy2VnCE"
      },
      "source": [
        "embedded_train=torch.from_numpy(embedded_train)\n",
        "embedded_train=embedded_train.cuda()"
      ],
      "execution_count": null,
      "outputs": []
    },
    {
      "cell_type": "markdown",
      "metadata": {
        "id": "NJzkveEDh3d1"
      },
      "source": [
        "**Cosine Similarity (Threshold=0.55)**"
      ]
    },
    {
      "cell_type": "code",
      "metadata": {
        "colab": {
          "base_uri": "https://localhost:8080/"
        },
        "id": "PZP-oAt4pkC_",
        "outputId": "57335a1d-d358-4690-ef5e-ae16bf5fa785"
      },
      "source": [
        "matches=[]\n",
        "chunksize=512\n",
        "chunks=len(train_data)//chunksize if len(train_data)%chunksize==0 else (len(train_data)//chunksize)+1\n",
        "for chunk in tqdm(range(chunks)):\n",
        "    start=chunk*chunksize\n",
        "    end=min(len(train_data),start+chunksize)\n",
        "    cossim=torch.matmul(embedded_train,embedded_train[start:end].T).T\n",
        "    cossim=cossim.data.cpu().numpy()\n",
        "    for per_posting in cossim:\n",
        "        indices=np.where(per_posting>=0.55)[0]\n",
        "        match=train_data.iloc[indices].posting_id.values\n",
        "        if len(match.tolist())>50:\n",
        "            ind=np.where(per_posting>=sorted(per_posting)[-50])[0]\n",
        "            match=train.iloc[ind].posting_id.values\n",
        "        matches.append(' '.join(match.tolist()))"
      ],
      "execution_count": null,
      "outputs": [
        {
          "output_type": "stream",
          "text": [
            "\n",
            "\n",
            "  0%|          | 0/67 [00:00<?, ?it/s]\u001b[A\u001b[A\n",
            "\n",
            "  1%|▏         | 1/67 [00:04<04:27,  4.06s/it]\u001b[A\u001b[A\n",
            "\n",
            "  3%|▎         | 2/67 [00:07<04:21,  4.02s/it]\u001b[A\u001b[A\n",
            "\n",
            "  4%|▍         | 3/67 [00:11<04:14,  3.98s/it]\u001b[A\u001b[A\n",
            "\n",
            "  6%|▌         | 4/67 [00:15<04:09,  3.96s/it]\u001b[A\u001b[A\n",
            "\n",
            "  7%|▋         | 5/67 [00:19<04:04,  3.95s/it]\u001b[A\u001b[A\n",
            "\n",
            "  9%|▉         | 6/67 [00:23<03:59,  3.93s/it]\u001b[A\u001b[A\n",
            "\n",
            " 10%|█         | 7/67 [00:27<03:55,  3.93s/it]\u001b[A\u001b[A\n",
            "\n",
            " 12%|█▏        | 8/67 [00:31<03:51,  3.92s/it]\u001b[A\u001b[A\n",
            "\n",
            " 13%|█▎        | 9/67 [00:35<03:47,  3.92s/it]\u001b[A\u001b[A\n",
            "\n",
            " 15%|█▍        | 10/67 [00:39<03:42,  3.91s/it]\u001b[A\u001b[A\n",
            "\n",
            " 16%|█▋        | 11/67 [00:43<03:38,  3.90s/it]\u001b[A\u001b[A\n",
            "\n",
            " 18%|█▊        | 12/67 [00:46<03:34,  3.89s/it]\u001b[A\u001b[A\n",
            "\n",
            " 19%|█▉        | 13/67 [00:50<03:30,  3.89s/it]\u001b[A\u001b[A\n",
            "\n",
            " 21%|██        | 14/67 [00:54<03:26,  3.89s/it]\u001b[A\u001b[A\n",
            "\n",
            " 22%|██▏       | 15/67 [00:58<03:22,  3.89s/it]\u001b[A\u001b[A\n",
            "\n",
            " 24%|██▍       | 16/67 [01:02<03:19,  3.90s/it]\u001b[A\u001b[A\n",
            "\n",
            " 25%|██▌       | 17/67 [01:06<03:15,  3.92s/it]\u001b[A\u001b[A\n",
            "\n",
            " 27%|██▋       | 18/67 [01:10<03:11,  3.91s/it]\u001b[A\u001b[A\n",
            "\n",
            " 28%|██▊       | 19/67 [01:14<03:07,  3.91s/it]\u001b[A\u001b[A\n",
            "\n",
            " 30%|██▉       | 20/67 [01:18<03:03,  3.91s/it]\u001b[A\u001b[A\n",
            "\n",
            " 31%|███▏      | 21/67 [01:22<02:59,  3.91s/it]\u001b[A\u001b[A\n",
            "\n",
            " 33%|███▎      | 22/67 [01:26<02:56,  3.91s/it]\u001b[A\u001b[A\n",
            "\n",
            " 34%|███▍      | 23/67 [01:30<02:52,  3.91s/it]\u001b[A\u001b[A\n",
            "\n",
            " 36%|███▌      | 24/67 [01:33<02:48,  3.91s/it]\u001b[A\u001b[A\n",
            "\n",
            " 37%|███▋      | 25/67 [01:37<02:44,  3.91s/it]\u001b[A\u001b[A\n",
            "\n",
            " 39%|███▉      | 26/67 [01:41<02:40,  3.91s/it]\u001b[A\u001b[A\n",
            "\n",
            " 40%|████      | 27/67 [01:45<02:36,  3.91s/it]\u001b[A\u001b[A\n",
            "\n",
            " 42%|████▏     | 28/67 [01:49<02:32,  3.91s/it]\u001b[A\u001b[A\n",
            "\n",
            " 43%|████▎     | 29/67 [01:53<02:28,  3.91s/it]\u001b[A\u001b[A\n",
            "\n",
            " 45%|████▍     | 30/67 [01:57<02:24,  3.91s/it]\u001b[A\u001b[A\n",
            "\n",
            " 46%|████▋     | 31/67 [02:01<02:20,  3.92s/it]\u001b[A\u001b[A\n",
            "\n",
            " 48%|████▊     | 32/67 [02:05<02:17,  3.92s/it]\u001b[A\u001b[A\n",
            "\n",
            " 49%|████▉     | 33/67 [02:09<02:13,  3.92s/it]\u001b[A\u001b[A\n",
            "\n",
            " 51%|█████     | 34/67 [02:13<02:09,  3.92s/it]\u001b[A\u001b[A\n",
            "\n",
            " 52%|█████▏    | 35/67 [02:16<02:05,  3.92s/it]\u001b[A\u001b[A\n",
            "\n",
            " 54%|█████▎    | 36/67 [02:20<02:01,  3.92s/it]\u001b[A\u001b[A\n",
            "\n",
            " 55%|█████▌    | 37/67 [02:24<01:57,  3.92s/it]\u001b[A\u001b[A\n",
            "\n",
            " 57%|█████▋    | 38/67 [02:28<01:53,  3.92s/it]\u001b[A\u001b[A\n",
            "\n",
            " 58%|█████▊    | 39/67 [02:32<01:49,  3.91s/it]\u001b[A\u001b[A\n",
            "\n",
            " 60%|█████▉    | 40/67 [02:36<01:45,  3.92s/it]\u001b[A\u001b[A\n",
            "\n",
            " 61%|██████    | 41/67 [02:40<01:41,  3.92s/it]\u001b[A\u001b[A\n",
            "\n",
            " 63%|██████▎   | 42/67 [02:44<01:37,  3.91s/it]\u001b[A\u001b[A\n",
            "\n",
            " 64%|██████▍   | 43/67 [02:48<01:33,  3.91s/it]\u001b[A\u001b[A\n",
            "\n",
            " 66%|██████▌   | 44/67 [02:52<01:29,  3.91s/it]\u001b[A\u001b[A\n",
            "\n",
            " 67%|██████▋   | 45/67 [02:56<01:25,  3.91s/it]\u001b[A\u001b[A\n",
            "\n",
            " 69%|██████▊   | 46/67 [02:59<01:22,  3.91s/it]\u001b[A\u001b[A\n",
            "\n",
            " 70%|███████   | 47/67 [03:03<01:18,  3.90s/it]\u001b[A\u001b[A\n",
            "\n",
            " 72%|███████▏  | 48/67 [03:07<01:14,  3.91s/it]\u001b[A\u001b[A\n",
            "\n",
            " 73%|███████▎  | 49/67 [03:11<01:10,  3.91s/it]\u001b[A\u001b[A\n",
            "\n",
            " 75%|███████▍  | 50/67 [03:15<01:06,  3.91s/it]\u001b[A\u001b[A\n",
            "\n",
            " 76%|███████▌  | 51/67 [03:19<01:02,  3.91s/it]\u001b[A\u001b[A\n",
            "\n",
            " 78%|███████▊  | 52/67 [03:23<00:58,  3.91s/it]\u001b[A\u001b[A\n",
            "\n",
            " 79%|███████▉  | 53/67 [03:27<00:54,  3.92s/it]\u001b[A\u001b[A\n",
            "\n",
            " 81%|████████  | 54/67 [03:31<00:50,  3.92s/it]\u001b[A\u001b[A\n",
            "\n",
            " 82%|████████▏ | 55/67 [03:35<00:47,  3.92s/it]\u001b[A\u001b[A\n",
            "\n",
            " 84%|████████▎ | 56/67 [03:39<00:43,  3.91s/it]\u001b[A\u001b[A\n",
            "\n",
            " 85%|████████▌ | 57/67 [03:43<00:39,  3.91s/it]\u001b[A\u001b[A\n",
            "\n",
            " 87%|████████▋ | 58/67 [03:46<00:35,  3.91s/it]\u001b[A\u001b[A\n",
            "\n",
            " 88%|████████▊ | 59/67 [03:50<00:31,  3.91s/it]\u001b[A\u001b[A\n",
            "\n",
            " 90%|████████▉ | 60/67 [03:54<00:27,  3.92s/it]\u001b[A\u001b[A\n",
            "\n",
            " 91%|█████████ | 61/67 [03:58<00:23,  3.92s/it]\u001b[A\u001b[A\n",
            "\n",
            " 93%|█████████▎| 62/67 [04:02<00:19,  3.91s/it]\u001b[A\u001b[A\n",
            "\n",
            " 94%|█████████▍| 63/67 [04:06<00:15,  3.91s/it]\u001b[A\u001b[A\n",
            "\n",
            " 96%|█████████▌| 64/67 [04:10<00:11,  3.91s/it]\u001b[A\u001b[A\n",
            "\n",
            " 97%|█████████▋| 65/67 [04:14<00:07,  3.91s/it]\u001b[A\u001b[A\n",
            "\n",
            " 99%|█████████▊| 66/67 [04:18<00:03,  3.91s/it]\u001b[A\u001b[A\n",
            "\n",
            "100%|██████████| 67/67 [04:22<00:00,  3.91s/it]\n"
          ],
          "name": "stderr"
        }
      ]
    },
    {
      "cell_type": "code",
      "metadata": {
        "colab": {
          "base_uri": "https://localhost:8080/"
        },
        "id": "XaNbfZi6YpW_",
        "outputId": "0adb1d8e-5c6c-461a-deb6-67f6fc9a2009"
      },
      "source": [
        "CS055_data=train_data.copy(deep=True)\n",
        "CS055_data['matches']=matches\n",
        "print(CS055_data)"
      ],
      "execution_count": null,
      "outputs": [
        {
          "output_type": "stream",
          "text": [
            "             posting_id  ...                                            matches\n",
            "0       train_129225211  ...                   train_129225211 train_2278313361\n",
            "1      train_3386243561  ...  train_3386243561 train_3423213080 train_183194...\n",
            "2      train_2288590299  ...                  train_2288590299 train_3803689425\n",
            "3      train_2406599165  ...  train_2406599165 train_3576714541 train_150810...\n",
            "4      train_3369186413  ...                                   train_3369186413\n",
            "...                 ...  ...                                                ...\n",
            "34245  train_4028265689  ...                                   train_4028265689\n",
            "34246   train_769054909  ...  train_3668574065 train_1463059254 train_253010...\n",
            "34247   train_614977732  ...  train_2690464637 train_9568348 train_512157627...\n",
            "34248  train_3630949769  ...  train_3419392575 train_1431563868 train_363094...\n",
            "34249  train_1792180725  ...                   train_795128312 train_1792180725\n",
            "\n",
            "[34250 rows x 4 columns]\n"
          ],
          "name": "stdout"
        }
      ]
    },
    {
      "cell_type": "markdown",
      "metadata": {
        "id": "MX7ZxwY9cRKA"
      },
      "source": [
        "**Cosine Similarity (Threshold=0.60)**"
      ]
    },
    {
      "cell_type": "code",
      "metadata": {
        "colab": {
          "base_uri": "https://localhost:8080/"
        },
        "id": "yCRuxcjUce51",
        "outputId": "b8133816-211b-477a-d642-c55baf964180"
      },
      "source": [
        "matches=[]\n",
        "chunksize=512\n",
        "chunks=len(train_data)//chunksize if len(train_data)%chunksize==0 else (len(train_data)//chunksize)+1\n",
        "for chunk in tqdm(range(chunks)):\n",
        "    start=chunk*chunksize\n",
        "    end=min(len(train_data),start+chunksize)\n",
        "    cossim=torch.matmul(embedded_train,embedded_train[start:end].T).T\n",
        "    cossim=cossim.data.cpu().numpy()\n",
        "    for per_posting in cossim:\n",
        "        indices=np.where(per_posting>=0.60)[0]\n",
        "        match=train_data.iloc[indices].posting_id.values\n",
        "        if len(match.tolist())>50:\n",
        "            ind=np.where(per_posting>=sorted(per_posting)[-50])[0]\n",
        "            match=train.iloc[ind].posting_id.values\n",
        "        matches.append(' '.join(match.tolist()))"
      ],
      "execution_count": null,
      "outputs": [
        {
          "output_type": "stream",
          "text": [
            "\n",
            "\n",
            "  0%|          | 0/67 [00:00<?, ?it/s]\u001b[A\u001b[A\n",
            "\n",
            "  1%|▏         | 1/67 [00:03<04:16,  3.89s/it]\u001b[A\u001b[A\n",
            "\n",
            "  3%|▎         | 2/67 [00:07<04:13,  3.90s/it]\u001b[A\u001b[A\n",
            "\n",
            "  4%|▍         | 3/67 [00:11<04:09,  3.90s/it]\u001b[A\u001b[A\n",
            "\n",
            "  6%|▌         | 4/67 [00:15<04:05,  3.90s/it]\u001b[A\u001b[A\n",
            "\n",
            "  7%|▋         | 5/67 [00:19<04:02,  3.90s/it]\u001b[A\u001b[A\n",
            "\n",
            "  9%|▉         | 6/67 [00:23<03:58,  3.90s/it]\u001b[A\u001b[A\n",
            "\n",
            " 10%|█         | 7/67 [00:27<03:54,  3.91s/it]\u001b[A\u001b[A\n",
            "\n",
            " 12%|█▏        | 8/67 [00:31<03:51,  3.92s/it]\u001b[A\u001b[A\n",
            "\n",
            " 13%|█▎        | 9/67 [00:35<03:47,  3.92s/it]\u001b[A\u001b[A\n",
            "\n",
            " 15%|█▍        | 10/67 [00:39<03:43,  3.91s/it]\u001b[A\u001b[A\n",
            "\n",
            " 16%|█▋        | 11/67 [00:43<03:39,  3.91s/it]\u001b[A\u001b[A\n",
            "\n",
            " 18%|█▊        | 12/67 [00:46<03:34,  3.91s/it]\u001b[A\u001b[A\n",
            "\n",
            " 19%|█▉        | 13/67 [00:50<03:30,  3.90s/it]\u001b[A\u001b[A\n",
            "\n",
            " 21%|██        | 14/67 [00:54<03:26,  3.91s/it]\u001b[A\u001b[A\n",
            "\n",
            " 22%|██▏       | 15/67 [00:58<03:23,  3.90s/it]\u001b[A\u001b[A\n",
            "\n",
            " 24%|██▍       | 16/67 [01:02<03:19,  3.90s/it]\u001b[A\u001b[A\n",
            "\n",
            " 25%|██▌       | 17/67 [01:06<03:15,  3.91s/it]\u001b[A\u001b[A\n",
            "\n",
            " 27%|██▋       | 18/67 [01:10<03:11,  3.90s/it]\u001b[A\u001b[A\n",
            "\n",
            " 28%|██▊       | 19/67 [01:14<03:07,  3.90s/it]\u001b[A\u001b[A\n",
            "\n",
            " 30%|██▉       | 20/67 [01:18<03:03,  3.90s/it]\u001b[A\u001b[A\n",
            "\n",
            " 31%|███▏      | 21/67 [01:22<02:59,  3.90s/it]\u001b[A\u001b[A\n",
            "\n",
            " 33%|███▎      | 22/67 [01:25<02:55,  3.91s/it]\u001b[A\u001b[A\n",
            "\n",
            " 34%|███▍      | 23/67 [01:29<02:52,  3.92s/it]\u001b[A\u001b[A\n",
            "\n",
            " 36%|███▌      | 24/67 [01:33<02:48,  3.92s/it]\u001b[A\u001b[A\n",
            "\n",
            " 37%|███▋      | 25/67 [01:37<02:44,  3.92s/it]\u001b[A\u001b[A\n",
            "\n",
            " 39%|███▉      | 26/67 [01:41<02:40,  3.92s/it]\u001b[A\u001b[A\n",
            "\n",
            " 40%|████      | 27/67 [01:45<02:36,  3.91s/it]\u001b[A\u001b[A\n",
            "\n",
            " 42%|████▏     | 28/67 [01:49<02:32,  3.91s/it]\u001b[A\u001b[A\n",
            "\n",
            " 43%|████▎     | 29/67 [01:53<02:28,  3.91s/it]\u001b[A\u001b[A\n",
            "\n",
            " 45%|████▍     | 30/67 [01:57<02:24,  3.91s/it]\u001b[A\u001b[A\n",
            "\n",
            " 46%|████▋     | 31/67 [02:01<02:20,  3.91s/it]\u001b[A\u001b[A\n",
            "\n",
            " 48%|████▊     | 32/67 [02:05<02:16,  3.91s/it]\u001b[A\u001b[A\n",
            "\n",
            " 49%|████▉     | 33/67 [02:08<02:12,  3.91s/it]\u001b[A\u001b[A\n",
            "\n",
            " 51%|█████     | 34/67 [02:12<02:08,  3.91s/it]\u001b[A\u001b[A\n",
            "\n",
            " 52%|█████▏    | 35/67 [02:16<02:04,  3.91s/it]\u001b[A\u001b[A\n",
            "\n",
            " 54%|█████▎    | 36/67 [02:20<02:00,  3.90s/it]\u001b[A\u001b[A\n",
            "\n",
            " 55%|█████▌    | 37/67 [02:24<01:57,  3.90s/it]\u001b[A\u001b[A\n",
            "\n",
            " 57%|█████▋    | 38/67 [02:28<01:53,  3.90s/it]\u001b[A\u001b[A\n",
            "\n",
            " 58%|█████▊    | 39/67 [02:32<01:49,  3.90s/it]\u001b[A\u001b[A\n",
            "\n",
            " 60%|█████▉    | 40/67 [02:36<01:45,  3.91s/it]\u001b[A\u001b[A\n",
            "\n",
            " 61%|██████    | 41/67 [02:40<01:41,  3.91s/it]\u001b[A\u001b[A\n",
            "\n",
            " 63%|██████▎   | 42/67 [02:44<01:37,  3.91s/it]\u001b[A\u001b[A\n",
            "\n",
            " 64%|██████▍   | 43/67 [02:48<01:33,  3.90s/it]\u001b[A\u001b[A\n",
            "\n",
            " 66%|██████▌   | 44/67 [02:51<01:29,  3.90s/it]\u001b[A\u001b[A\n",
            "\n",
            " 67%|██████▋   | 45/67 [02:55<01:25,  3.90s/it]\u001b[A\u001b[A\n",
            "\n",
            " 69%|██████▊   | 46/67 [02:59<01:21,  3.90s/it]\u001b[A\u001b[A\n",
            "\n",
            " 70%|███████   | 47/67 [03:03<01:18,  3.90s/it]\u001b[A\u001b[A\n",
            "\n",
            " 72%|███████▏  | 48/67 [03:07<01:14,  3.91s/it]\u001b[A\u001b[A\n",
            "\n",
            " 73%|███████▎  | 49/67 [03:11<01:10,  3.90s/it]\u001b[A\u001b[A\n",
            "\n",
            " 75%|███████▍  | 50/67 [03:15<01:06,  3.90s/it]\u001b[A\u001b[A\n",
            "\n",
            " 76%|███████▌  | 51/67 [03:19<01:02,  3.91s/it]\u001b[A\u001b[A\n",
            "\n",
            " 78%|███████▊  | 52/67 [03:23<00:58,  3.91s/it]\u001b[A\u001b[A\n",
            "\n",
            " 79%|███████▉  | 53/67 [03:27<00:54,  3.91s/it]\u001b[A\u001b[A\n",
            "\n",
            " 81%|████████  | 54/67 [03:31<00:50,  3.91s/it]\u001b[A\u001b[A\n",
            "\n",
            " 82%|████████▏ | 55/67 [03:34<00:46,  3.91s/it]\u001b[A\u001b[A\n",
            "\n",
            " 84%|████████▎ | 56/67 [03:38<00:42,  3.91s/it]\u001b[A\u001b[A\n",
            "\n",
            " 85%|████████▌ | 57/67 [03:42<00:39,  3.91s/it]\u001b[A\u001b[A\n",
            "\n",
            " 87%|████████▋ | 58/67 [03:46<00:35,  3.90s/it]\u001b[A\u001b[A\n",
            "\n",
            " 88%|████████▊ | 59/67 [03:50<00:31,  3.90s/it]\u001b[A\u001b[A\n",
            "\n",
            " 90%|████████▉ | 60/67 [03:54<00:27,  3.90s/it]\u001b[A\u001b[A\n",
            "\n",
            " 91%|█████████ | 61/67 [03:58<00:23,  3.90s/it]\u001b[A\u001b[A\n",
            "\n",
            " 93%|█████████▎| 62/67 [04:02<00:19,  3.90s/it]\u001b[A\u001b[A\n",
            "\n",
            " 94%|█████████▍| 63/67 [04:06<00:15,  3.90s/it]\u001b[A\u001b[A\n",
            "\n",
            " 96%|█████████▌| 64/67 [04:10<00:11,  3.90s/it]\u001b[A\u001b[A\n",
            "\n",
            " 97%|█████████▋| 65/67 [04:13<00:07,  3.90s/it]\u001b[A\u001b[A\n",
            "\n",
            " 99%|█████████▊| 66/67 [04:17<00:03,  3.90s/it]\u001b[A\u001b[A\n",
            "\n",
            "100%|██████████| 67/67 [04:21<00:00,  3.91s/it]\n"
          ],
          "name": "stderr"
        }
      ]
    },
    {
      "cell_type": "code",
      "metadata": {
        "id": "DLE2J4Hvce56"
      },
      "source": [
        "CS060_data=train_data.copy(deep=True)\n",
        "CS060_data['matches']=matches"
      ],
      "execution_count": null,
      "outputs": []
    },
    {
      "cell_type": "markdown",
      "metadata": {
        "id": "2vuntoj5cRn6"
      },
      "source": [
        "**Cosine Similarity (Threshold=0.65)**\n",
        "\n"
      ]
    },
    {
      "cell_type": "code",
      "metadata": {
        "colab": {
          "base_uri": "https://localhost:8080/"
        },
        "id": "hW4YKWcTcnSn",
        "outputId": "6c63a179-9fee-4aea-a61f-1da03f38a404"
      },
      "source": [
        "matches=[]\n",
        "chunksize=512\n",
        "chunks=len(train_data)//chunksize if len(train_data)%chunksize==0 else (len(train_data)//chunksize)+1\n",
        "for chunk in tqdm(range(chunks)):\n",
        "    start=chunk*chunksize\n",
        "    end=min(len(train_data),start+chunksize)\n",
        "    cossim=torch.matmul(embedded_train,embedded_train[start:end].T).T\n",
        "    cossim=cossim.data.cpu().numpy()\n",
        "    for per_posting in cossim:\n",
        "        indices=np.where(per_posting>=0.65)[0]\n",
        "        match=train_data.iloc[indices].posting_id.values\n",
        "        if len(match.tolist())>50:\n",
        "            ind=np.where(per_posting>=sorted(per_posting)[-50])[0]\n",
        "            match=train.iloc[ind].posting_id.values\n",
        "        matches.append(' '.join(match.tolist()))"
      ],
      "execution_count": null,
      "outputs": [
        {
          "output_type": "stream",
          "text": [
            "\n",
            "\n",
            "  0%|          | 0/67 [00:00<?, ?it/s]\u001b[A\u001b[A\n",
            "\n",
            "  1%|▏         | 1/67 [00:03<04:17,  3.90s/it]\u001b[A\u001b[A\n",
            "\n",
            "  3%|▎         | 2/67 [00:07<04:13,  3.90s/it]\u001b[A\u001b[A\n",
            "\n",
            "  4%|▍         | 3/67 [00:11<04:09,  3.90s/it]\u001b[A\u001b[A\n",
            "\n",
            "  6%|▌         | 4/67 [00:15<04:05,  3.90s/it]\u001b[A\u001b[A\n",
            "\n",
            "  7%|▋         | 5/67 [00:19<04:01,  3.90s/it]\u001b[A\u001b[A\n",
            "\n",
            "  9%|▉         | 6/67 [00:23<03:58,  3.90s/it]\u001b[A\u001b[A\n",
            "\n",
            " 10%|█         | 7/67 [00:27<03:54,  3.90s/it]\u001b[A\u001b[A\n",
            "\n",
            " 12%|█▏        | 8/67 [00:31<03:50,  3.90s/it]\u001b[A\u001b[A\n",
            "\n",
            " 13%|█▎        | 9/67 [00:35<03:46,  3.90s/it]\u001b[A\u001b[A\n",
            "\n",
            " 15%|█▍        | 10/67 [00:39<03:42,  3.90s/it]\u001b[A\u001b[A\n",
            "\n",
            " 16%|█▋        | 11/67 [00:42<03:38,  3.90s/it]\u001b[A\u001b[A\n",
            "\n",
            " 18%|█▊        | 12/67 [00:46<03:34,  3.90s/it]\u001b[A\u001b[A\n",
            "\n",
            " 19%|█▉        | 13/67 [00:50<03:30,  3.90s/it]\u001b[A\u001b[A\n",
            "\n",
            " 21%|██        | 14/67 [00:54<03:26,  3.90s/it]\u001b[A\u001b[A\n",
            "\n",
            " 22%|██▏       | 15/67 [00:58<03:22,  3.90s/it]\u001b[A\u001b[A\n",
            "\n",
            " 24%|██▍       | 16/67 [01:02<03:18,  3.90s/it]\u001b[A\u001b[A\n",
            "\n",
            " 25%|██▌       | 17/67 [01:06<03:15,  3.91s/it]\u001b[A\u001b[A\n",
            "\n",
            " 27%|██▋       | 18/67 [01:10<03:11,  3.91s/it]\u001b[A\u001b[A\n",
            "\n",
            " 28%|██▊       | 19/67 [01:14<03:07,  3.91s/it]\u001b[A\u001b[A\n",
            "\n",
            " 30%|██▉       | 20/67 [01:18<03:03,  3.90s/it]\u001b[A\u001b[A\n",
            "\n",
            " 31%|███▏      | 21/67 [01:21<02:59,  3.90s/it]\u001b[A\u001b[A\n",
            "\n",
            " 33%|███▎      | 22/67 [01:25<02:55,  3.90s/it]\u001b[A\u001b[A\n",
            "\n",
            " 34%|███▍      | 23/67 [01:29<02:52,  3.91s/it]\u001b[A\u001b[A\n",
            "\n",
            " 36%|███▌      | 24/67 [01:33<02:48,  3.91s/it]\u001b[A\u001b[A\n",
            "\n",
            " 37%|███▋      | 25/67 [01:37<02:44,  3.91s/it]\u001b[A\u001b[A\n",
            "\n",
            " 39%|███▉      | 26/67 [01:41<02:40,  3.91s/it]\u001b[A\u001b[A\n",
            "\n",
            " 40%|████      | 27/67 [01:45<02:36,  3.91s/it]\u001b[A\u001b[A\n",
            "\n",
            " 42%|████▏     | 28/67 [01:49<02:32,  3.91s/it]\u001b[A\u001b[A\n",
            "\n",
            " 43%|████▎     | 29/67 [01:53<02:28,  3.91s/it]\u001b[A\u001b[A\n",
            "\n",
            " 45%|████▍     | 30/67 [01:57<02:24,  3.91s/it]\u001b[A\u001b[A\n",
            "\n",
            " 46%|████▋     | 31/67 [02:01<02:20,  3.90s/it]\u001b[A\u001b[A\n",
            "\n",
            " 48%|████▊     | 32/67 [02:04<02:16,  3.90s/it]\u001b[A\u001b[A\n",
            "\n",
            " 49%|████▉     | 33/67 [02:08<02:12,  3.90s/it]\u001b[A\u001b[A\n",
            "\n",
            " 51%|█████     | 34/67 [02:12<02:09,  3.91s/it]\u001b[A\u001b[A\n",
            "\n",
            " 52%|█████▏    | 35/67 [02:16<02:05,  3.91s/it]\u001b[A\u001b[A\n",
            "\n",
            " 54%|█████▎    | 36/67 [02:20<02:01,  3.91s/it]\u001b[A\u001b[A\n",
            "\n",
            " 55%|█████▌    | 37/67 [02:24<01:57,  3.91s/it]\u001b[A\u001b[A\n",
            "\n",
            " 57%|█████▋    | 38/67 [02:28<01:53,  3.90s/it]\u001b[A\u001b[A\n",
            "\n",
            " 58%|█████▊    | 39/67 [02:32<01:49,  3.90s/it]\u001b[A\u001b[A\n",
            "\n",
            " 60%|█████▉    | 40/67 [02:36<01:45,  3.90s/it]\u001b[A\u001b[A\n",
            "\n",
            " 61%|██████    | 41/67 [02:40<01:41,  3.90s/it]\u001b[A\u001b[A\n",
            "\n",
            " 63%|██████▎   | 42/67 [02:43<01:37,  3.90s/it]\u001b[A\u001b[A\n",
            "\n",
            " 64%|██████▍   | 43/67 [02:47<01:33,  3.91s/it]\u001b[A\u001b[A\n",
            "\n",
            " 66%|██████▌   | 44/67 [02:51<01:29,  3.90s/it]\u001b[A\u001b[A\n",
            "\n",
            " 67%|██████▋   | 45/67 [02:55<01:25,  3.90s/it]\u001b[A\u001b[A\n",
            "\n",
            " 69%|██████▊   | 46/67 [02:59<01:21,  3.90s/it]\u001b[A\u001b[A\n",
            "\n",
            " 70%|███████   | 47/67 [03:03<01:18,  3.90s/it]\u001b[A\u001b[A\n",
            "\n",
            " 72%|███████▏  | 48/67 [03:07<01:14,  3.90s/it]\u001b[A\u001b[A\n",
            "\n",
            " 73%|███████▎  | 49/67 [03:11<01:10,  3.90s/it]\u001b[A\u001b[A\n",
            "\n",
            " 75%|███████▍  | 50/67 [03:15<01:06,  3.91s/it]\u001b[A\u001b[A\n",
            "\n",
            " 76%|███████▌  | 51/67 [03:19<01:02,  3.92s/it]\u001b[A\u001b[A\n",
            "\n",
            " 78%|███████▊  | 52/67 [03:23<00:58,  3.91s/it]\u001b[A\u001b[A\n",
            "\n",
            " 79%|███████▉  | 53/67 [03:26<00:54,  3.91s/it]\u001b[A\u001b[A\n",
            "\n",
            " 81%|████████  | 54/67 [03:30<00:50,  3.92s/it]\u001b[A\u001b[A\n",
            "\n",
            " 82%|████████▏ | 55/67 [03:34<00:46,  3.91s/it]\u001b[A\u001b[A\n",
            "\n",
            " 84%|████████▎ | 56/67 [03:38<00:42,  3.91s/it]\u001b[A\u001b[A\n",
            "\n",
            " 85%|████████▌ | 57/67 [03:42<00:39,  3.90s/it]\u001b[A\u001b[A\n",
            "\n",
            " 87%|████████▋ | 58/67 [03:46<00:35,  3.90s/it]\u001b[A\u001b[A\n",
            "\n",
            " 88%|████████▊ | 59/67 [03:50<00:31,  3.90s/it]\u001b[A\u001b[A\n",
            "\n",
            " 90%|████████▉ | 60/67 [03:54<00:27,  3.90s/it]\u001b[A\u001b[A\n",
            "\n",
            " 91%|█████████ | 61/67 [03:58<00:23,  3.90s/it]\u001b[A\u001b[A\n",
            "\n",
            " 93%|█████████▎| 62/67 [04:02<00:19,  3.90s/it]\u001b[A\u001b[A\n",
            "\n",
            " 94%|█████████▍| 63/67 [04:05<00:15,  3.90s/it]\u001b[A\u001b[A\n",
            "\n",
            " 96%|█████████▌| 64/67 [04:09<00:11,  3.90s/it]\u001b[A\u001b[A\n",
            "\n",
            " 97%|█████████▋| 65/67 [04:13<00:07,  3.90s/it]\u001b[A\u001b[A\n",
            "\n",
            " 99%|█████████▊| 66/67 [04:17<00:03,  3.90s/it]\u001b[A\u001b[A\n",
            "\n",
            "100%|██████████| 67/67 [04:21<00:00,  3.90s/it]\n"
          ],
          "name": "stderr"
        }
      ]
    },
    {
      "cell_type": "code",
      "metadata": {
        "id": "m2O_Z-MCcnSr"
      },
      "source": [
        "CS065_data=train_data.copy(deep=True)\n",
        "CS065_data['matches']=matches"
      ],
      "execution_count": null,
      "outputs": []
    },
    {
      "cell_type": "markdown",
      "metadata": {
        "id": "TpdcvpUzfarU"
      },
      "source": [
        "saving the data"
      ]
    },
    {
      "cell_type": "code",
      "metadata": {
        "id": "2fu6WNyKfZe3"
      },
      "source": [
        "CS055_data.to_csv(path_or_buf='CosSim055_results.csv')\n",
        "CS060_data.to_csv(path_or_buf='CosSim060_results.csv')\n",
        "CS065_data.to_csv(path_or_buf='CosSim065_results.csv')"
      ],
      "execution_count": null,
      "outputs": []
    },
    {
      "cell_type": "markdown",
      "metadata": {
        "id": "sovF3fghjaVg"
      },
      "source": [
        "**Sorting each posting into their label groups and getting their matches**"
      ]
    },
    {
      "cell_type": "code",
      "metadata": {
        "colab": {
          "base_uri": "https://localhost:8080/"
        },
        "id": "-UOv8m_zjZpy",
        "outputId": "e67b3298-1984-4e51-817b-5fd72904ebc9"
      },
      "source": [
        "validation_set=pd.read_csv('train.csv')\n",
        "validation_set=validation_set[['posting_id', 'label_group']]\n",
        "print(validation_set)\n",
        "\n",
        "valid=validation_set.to_numpy()\n",
        "labels={}\n",
        "\n",
        "for i in validation_set.label_group.values:\n",
        "  labels[i]=np.empty(0)\n",
        "  for x in validation_set[validation_set['label_group']==i].posting_id.values:\n",
        "    labels[i]=np.append(labels[i], x)\n",
        "\n"
      ],
      "execution_count": null,
      "outputs": [
        {
          "output_type": "stream",
          "text": [
            "             posting_id  label_group\n",
            "0       train_129225211    249114794\n",
            "1      train_3386243561   2937985045\n",
            "2      train_2288590299   2395904891\n",
            "3      train_2406599165   4093212188\n",
            "4      train_3369186413   3648931069\n",
            "...                 ...          ...\n",
            "34245  train_4028265689   3776555725\n",
            "34246   train_769054909   2736479533\n",
            "34247   train_614977732   4101248785\n",
            "34248  train_3630949769   1663538013\n",
            "34249  train_1792180725    459464107\n",
            "\n",
            "[34250 rows x 2 columns]\n"
          ],
          "name": "stdout"
        }
      ]
    },
    {
      "cell_type": "code",
      "metadata": {
        "colab": {
          "base_uri": "https://localhost:8080/"
        },
        "id": "gT3vPBYeVpeF",
        "outputId": "82adf33d-7838-4e35-a941-b624f5d3b9b1"
      },
      "source": [
        "print(labels[2261226227])\n",
        "\n",
        "##2261226227: array(['train_925751208', 'train_2394576597'], dtype='<U32')"
      ],
      "execution_count": null,
      "outputs": [
        {
          "output_type": "stream",
          "text": [
            "['train_925751208' 'train_2394576597']\n"
          ],
          "name": "stdout"
        }
      ]
    },
    {
      "cell_type": "code",
      "metadata": {
        "id": "ZYvml_0o4kLY"
      },
      "source": [
        "a=[]\n",
        "\n",
        "for x in range(34250):\n",
        "  a.append([])\n",
        "\n",
        "for i in valid:\n",
        "  for x in np.where(valid==i[1])[0]:\n",
        "    a[x]=labels[i[1]]\n"
      ],
      "execution_count": null,
      "outputs": []
    },
    {
      "cell_type": "code",
      "metadata": {
        "id": "LFksuCs9z63w",
        "colab": {
          "base_uri": "https://localhost:8080/"
        },
        "outputId": "95a8f044-c964-4de0-cf96-d52dc59728e7"
      },
      "source": [
        "validation_set['matches']=a\n",
        "print(validation_set)\n",
        "validation_set.to_csv(\"gold.csv\")"
      ],
      "execution_count": null,
      "outputs": [
        {
          "output_type": "stream",
          "text": [
            "[array(['train_129225211', 'train_2278313361'], dtype='<U32'), array(['train_3386243561', 'train_3423213080'], dtype='<U32'), array(['train_2288590299', 'train_3803689425'], dtype='<U32'), array(['train_2406599165', 'train_3342059966'], dtype='<U32'), array(['train_3369186413', 'train_921438619'], dtype='<U32')]\n",
            "             posting_id  ...                                            matches\n",
            "0       train_129225211  ...                [train_129225211, train_2278313361]\n",
            "1      train_3386243561  ...               [train_3386243561, train_3423213080]\n",
            "2      train_2288590299  ...               [train_2288590299, train_3803689425]\n",
            "3      train_2406599165  ...               [train_2406599165, train_3342059966]\n",
            "4      train_3369186413  ...                [train_3369186413, train_921438619]\n",
            "...                 ...  ...                                                ...\n",
            "34245  train_4028265689  ...               [train_2829161572, train_4028265689]\n",
            "34246   train_769054909  ...                [train_1463059254, train_769054909]\n",
            "34247   train_614977732  ...  [train_4126022211, train_3926241003, train_232...\n",
            "34248  train_3630949769  ...  [train_3419392575, train_1431563868, train_363...\n",
            "34249  train_1792180725  ...                [train_795128312, train_1792180725]\n",
            "\n",
            "[34250 rows x 3 columns]\n"
          ],
          "name": "stdout"
        }
      ]
    },
    {
      "cell_type": "markdown",
      "metadata": {
        "id": "m7EmallcEpvG"
      },
      "source": [
        "**Precision**"
      ]
    },
    {
      "cell_type": "code",
      "metadata": {
        "id": "XxydJV84Es9G",
        "colab": {
          "base_uri": "https://localhost:8080/"
        },
        "outputId": "b5fdf9c8-dadb-4882-b8c7-a4d26fbe45f4"
      },
      "source": [
        "gold=pd.read_csv(\"gold.csv\")\n",
        "CS055_results=pd.read_csv('CosSim055_results.csv')\n",
        "CS060_results=pd.read_csv('CosSim060_results.csv')\n",
        "CS065_results=pd.read_csv('CosSim065_results.csv')\n",
        "\n",
        "def score(gold, result):\n",
        "  relevant=0\n",
        "  total_retreived=0\n",
        "  total_relevant=0\n",
        "\n",
        "  match_pred=result[['matches']].to_numpy()\n",
        "  match_hat=gold[['matches']].to_numpy()\n",
        "\n",
        "  for i in range(34250):\n",
        "    \n",
        "    pred=match_pred[i]\n",
        "    actual=match_hat[i][0]\n",
        "    for i in pred:\n",
        "      total_retreived+=1\n",
        "      if i in actual:\n",
        "        relevant+=1\n",
        "    for i in actual:\n",
        "      total_relevant+=1\n",
        "\n",
        "  recall= relevant/total_relevant\n",
        "  precision= relevant/ total_retreived\n",
        "\n",
        "  return recall , precision\n",
        "\n",
        "CS055_recall , CS055_precision = score(gold, CS055_results) \n",
        "CS060_recall , CS060_precision = score(gold, CS060_results) \n",
        "CS065_recall , CS065_precision = score(gold, CS065_results) \n",
        "\n",
        "print(\"CosSim Threshold=0.55\")\n",
        "print(\"Recall: {0} Precision:{1}\".format(CS055_recall , CS055_precision))\n",
        "print(\"F-score: \"+ str(2/(1/CS055_recall)+(1/CS055_precision)))\n",
        "\n",
        "print(\"CosSim Threshold=0.60\")\n",
        "print(\"Recall: {0} Precision:{1}\".format(CS060_recall , CS060_precision))\n",
        "print(\"F-score: \"+ str(2/(1/CS060_recall)+(1/CS060_precision)))\n",
        "\n",
        "print(\"CosSim Threshold=0.65\")\n",
        "print(\"Recall: {0} Precision:{1}\".format(CS065_recall , CS065_precision))\n",
        "print(\"F-score: \"+ str(2/(1/CS065_recall)+(1/CS065_precision)))"
      ],
      "execution_count": null,
      "outputs": [
        {
          "output_type": "stream",
          "text": [
            "CosSim Threshold=0.55\n",
            "Recall: 0.0020034543568841472 Precision:0.2254890510948905\n",
            "F-score: 4.4388120362548795\n",
            "CosSim Threshold=0.60\n",
            "Recall: 0.002642391050009313 Precision:0.2974014598540146\n",
            "F-score: 3.367743058165206\n",
            "CosSim Threshold=0.65\n",
            "Recall: 0.0033007837934732475 Precision:0.3715036496350365\n",
            "F-score: 2.6983651639402946\n"
          ],
          "name": "stdout"
        }
      ]
    },
    {
      "cell_type": "code",
      "metadata": {
        "id": "SWjzUAvnh14o"
      },
      "source": [
        ""
      ],
      "execution_count": null,
      "outputs": []
    },
    {
      "cell_type": "code",
      "metadata": {
        "id": "SLFeUQ1qUqaB"
      },
      "source": [
        "import pandas\n",
        "import re\n",
        "\n",
        "def MAP_score(gold, predicted):\n",
        "    '''\n",
        "        gold (list) - matches in gold.csv\n",
        "        predicted (list) - list containing posting id of top n documents\n",
        "        \n",
        "        e.g. gold = ['train_129225211', 'train_2278313361']\n",
        "             predicted = ['train_129225211', 'train_1203498230']\n",
        "    '''\n",
        "    threshold = len(gold)\n",
        "    \n",
        "    recall = []\n",
        "    precision = []\n",
        "    \n",
        "    relevant_indexes = []\n",
        "    \n",
        "    num_relevant = 0\n",
        "    current_count = 0\n",
        "    \n",
        "    for i in range(len(predicted)):\n",
        "        current_count += 1\n",
        "        if(predicted[i] in gold):\n",
        "            relevant_indexes.append(i)\n",
        "            \n",
        "            num_relevant += 1\n",
        "            recall.append(num_relevant/threshold)\n",
        "            precision.append(num_relevant/current_count)\n",
        "            \n",
        "        else:\n",
        "            recall.append(num_relevant/threshold)\n",
        "            precision.append(num_relevant/current_count)\n",
        "        \n",
        "    final_score = 0\n",
        "    for i in relevant_indexes:\n",
        "        final_score += precision[i]\n",
        "    \n",
        "    if len(relevant_indexes)==0:\n",
        "      pass\n",
        "    else:\n",
        "      final_score /= len(relevant_indexes)\n",
        "    return final_score\n",
        "\n",
        "\n",
        "def all_MAP_scores(predicted):\n",
        "    '''\n",
        "        predicted (list of lists): each inner list should consist of all the posting id sorted with [most relevant, ..., least relevant]\n",
        "    '''\n",
        "    gold = []\n",
        "    # read csv and save gold into a list of list\n",
        "    df = pandas.read_csv('gold.csv')\n",
        "    matches = df[\"matches\"]\n",
        "\n",
        "    for i in matches:\n",
        "        line = re.sub(\"['\\[\\]]\", '', i)\n",
        "        gold.append(line.split())\n",
        "        \n",
        "    \n",
        "    total_score = 0\n",
        "    for index in range(len(gold)):\n",
        "        num_relevant = len(gold[index])\n",
        "        #print(num_relevant)\n",
        "        top_predicted = predicted[index][:num_relevant]\n",
        "        #print(top_predicted)\n",
        "        \n",
        "        total_score += MAP_score(gold[index], top_predicted)\n",
        "    \n",
        "    MAP = total_score/len(gold)\n",
        "    \n",
        "    return MAP"
      ],
      "execution_count": null,
      "outputs": []
    },
    {
      "cell_type": "code",
      "metadata": {
        "colab": {
          "base_uri": "https://localhost:8080/"
        },
        "id": "MlLrcAQZU-_3",
        "outputId": "7e5748dc-1786-4ff2-abaa-1a7412df22c5"
      },
      "source": [
        "import pandas as pd\n",
        "\n",
        "results = pd.read_csv(\"CosSim055_results.csv\")\n",
        "\n",
        "results=results['matches']\n",
        "results.tolist()\n",
        "predicted=[]\n",
        "\n",
        "for i in results:\n",
        "  x= i.replace('[','').replace(']','').replace(',','').replace(\"'\",'').split(\" \")\n",
        "  predicted.append(x)\n",
        "\n",
        "print(all_MAP_scores(predicted))"
      ],
      "execution_count": null,
      "outputs": [
        {
          "output_type": "stream",
          "text": [
            "0.8652271880158569\n"
          ],
          "name": "stdout"
        }
      ]
    },
    {
      "cell_type": "code",
      "metadata": {
        "colab": {
          "base_uri": "https://localhost:8080/"
        },
        "id": "8gFOfXujiLz4",
        "outputId": "ebb38bcd-2c26-430f-dd15-0a27887e4a69"
      },
      "source": [
        "import pandas as pd\n",
        "\n",
        "results = pd.read_csv(\"CosSim060_results.csv\")\n",
        "\n",
        "results=results['matches']\n",
        "results.tolist()\n",
        "predicted=[]\n",
        "\n",
        "for i in results:\n",
        "  x= i.replace('[','').replace(']','').replace(',','').replace(\"'\",'').split(\" \")\n",
        "  predicted.append(x)\n",
        "\n",
        "print(all_MAP_scores(predicted))"
      ],
      "execution_count": null,
      "outputs": [
        {
          "output_type": "stream",
          "text": [
            "0.8993409003835721\n"
          ],
          "name": "stdout"
        }
      ]
    },
    {
      "cell_type": "code",
      "metadata": {
        "colab": {
          "base_uri": "https://localhost:8080/"
        },
        "id": "dm3X4bQEiMbF",
        "outputId": "417e719f-427a-417b-9ac5-b2024aba44e9"
      },
      "source": [
        "import pandas as pd\n",
        "\n",
        "results = pd.read_csv(\"CosSim065_results.csv\")\n",
        "\n",
        "results=results['matches']\n",
        "results.tolist()\n",
        "predicted=[]\n",
        "\n",
        "for i in results:\n",
        "  x= i.replace('[','').replace(']','').replace(',','').replace(\"'\",'').split(\" \")\n",
        "  predicted.append(x)\n",
        "\n",
        "print(all_MAP_scores(predicted))"
      ],
      "execution_count": null,
      "outputs": [
        {
          "output_type": "stream",
          "text": [
            "0.9262481258438915\n"
          ],
          "name": "stdout"
        }
      ]
    }
  ]
}